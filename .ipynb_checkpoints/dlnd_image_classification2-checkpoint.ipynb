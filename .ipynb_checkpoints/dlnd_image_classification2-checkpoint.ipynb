{
 "cells": [
  {
   "cell_type": "markdown",
   "metadata": {
    "collapsed": true,
    "deletable": true,
    "editable": true
   },
   "source": [
    "# Image Classification\n",
    "In this project, you'll classify images from the [CIFAR-10 dataset](https://www.cs.toronto.edu/~kriz/cifar.html).  The dataset consists of airplanes, dogs, cats, and other objects. You'll preprocess the images, then train a convolutional neural network on all the samples. The images need to be normalized and the labels need to be one-hot encoded.  You'll get to apply what you learned and build a convolutional, max pooling, dropout, and fully connected layers.  At the end, you'll get to see your neural network's predictions on the sample images.\n",
    "## Get the Data\n",
    "Run the following cell to download the [CIFAR-10 dataset for python](https://www.cs.toronto.edu/~kriz/cifar-10-python.tar.gz)."
   ]
  },
  {
   "cell_type": "code",
   "execution_count": 1,
   "metadata": {
    "collapsed": false,
    "deletable": true,
    "editable": true
   },
   "outputs": [
    {
     "name": "stdout",
     "output_type": "stream",
     "text": [
      "All files found!\n"
     ]
    }
   ],
   "source": [
    "\"\"\"\n",
    "DON'T MODIFY ANYTHING IN THIS CELL THAT IS BELOW THIS LINE\n",
    "\"\"\"\n",
    "from urllib.request import urlretrieve\n",
    "from os.path import isfile, isdir\n",
    "from tqdm import tqdm\n",
    "import problem_unittests as tests\n",
    "import tarfile\n",
    "\n",
    "cifar10_dataset_folder_path = 'cifar-10-batches-py'\n",
    "\n",
    "# Use Floyd's cifar-10 dataset if present\n",
    "floyd_cifar10_location = '/input/cifar-10/python.tar.gz'\n",
    "if isfile(floyd_cifar10_location):\n",
    "    tar_gz_path = floyd_cifar10_location\n",
    "else:\n",
    "    tar_gz_path = 'cifar-10-python.tar.gz'\n",
    "\n",
    "class DLProgress(tqdm):\n",
    "    last_block = 0\n",
    "\n",
    "    def hook(self, block_num=1, block_size=1, total_size=None):\n",
    "        self.total = total_size\n",
    "        self.update((block_num - self.last_block) * block_size)\n",
    "        self.last_block = block_num\n",
    "\n",
    "if not isfile(tar_gz_path):\n",
    "    with DLProgress(unit='B', unit_scale=True, miniters=1, desc='CIFAR-10 Dataset') as pbar:\n",
    "        urlretrieve(\n",
    "            'https://www.cs.toronto.edu/~kriz/cifar-10-python.tar.gz',\n",
    "            tar_gz_path,\n",
    "            pbar.hook)\n",
    "\n",
    "if not isdir(cifar10_dataset_folder_path):\n",
    "    with tarfile.open(tar_gz_path) as tar:\n",
    "        tar.extractall()\n",
    "        tar.close()\n",
    "\n",
    "\n",
    "tests.test_folder_path(cifar10_dataset_folder_path)"
   ]
  },
  {
   "cell_type": "markdown",
   "metadata": {
    "deletable": true,
    "editable": true
   },
   "source": [
    "## Explore the Data\n",
    "The dataset is broken into batches to prevent your machine from running out of memory.  The CIFAR-10 dataset consists of 5 batches, named `data_batch_1`, `data_batch_2`, etc.. Each batch contains the labels and images that are one of the following:\n",
    "* airplane\n",
    "* automobile\n",
    "* bird\n",
    "* cat\n",
    "* deer\n",
    "* dog\n",
    "* frog\n",
    "* horse\n",
    "* ship\n",
    "* truck\n",
    "\n",
    "Understanding a dataset is part of making predictions on the data.  Play around with the code cell below by changing the `batch_id` and `sample_id`. The `batch_id` is the id for a batch (1-5). The `sample_id` is the id for a image and label pair in the batch.\n",
    "\n",
    "Ask yourself \"What are all possible labels?\", \"What is the range of values for the image data?\", \"Are the labels in order or random?\".  Answers to questions like these will help you preprocess the data and end up with better predictions."
   ]
  },
  {
   "cell_type": "code",
   "execution_count": 2,
   "metadata": {
    "collapsed": false,
    "deletable": true,
    "editable": true
   },
   "outputs": [
    {
     "name": "stdout",
     "output_type": "stream",
     "text": [
      "\n",
      "Stats of batch 3:\n",
      "Samples: 10000\n",
      "Label Counts: {0: 994, 1: 1042, 2: 965, 3: 997, 4: 990, 5: 1029, 6: 978, 7: 1015, 8: 961, 9: 1029}\n",
      "First 20 Labels: [8, 5, 0, 6, 9, 2, 8, 3, 6, 2, 7, 4, 6, 9, 0, 0, 7, 3, 7, 2]\n",
      "\n",
      "Example of Image 500:\n",
      "Image - Min Value: 6 Max Value: 239\n",
      "Image - Shape: (32, 32, 3)\n",
      "Label - Label Id: 8 Name: ship\n"
     ]
    },
    {
     "data": {
      "image/png": "[encoded data removed]",
      "text/plain": [
       "<matplotlib.figure.Figure at 0x7f4f500f5828>"
      ]
     },
     "metadata": {
      "image/png": {
       "height": 250,
       "width": 253
      }
     },
     "output_type": "display_data"
    }
   ],
   "source": [
    "%matplotlib inline\n",
    "%config InlineBackend.figure_format = 'retina'\n",
    "\n",
    "import helper\n",
    "import numpy as np\n",
    "\n",
    "# Explore the dataset\n",
    "batch_id = 3\n",
    "sample_id = 500\n",
    "helper.display_stats(cifar10_dataset_folder_path, batch_id, sample_id)"
   ]
  },
  {
   "cell_type": "markdown",
   "metadata": {
    "deletable": true,
    "editable": true
   },
   "source": [
    "## Implement Preprocess Functions\n",
    "### Normalize\n",
    "In the cell below, implement the `normalize` function to take in image data, `x`, and return it as a normalized Numpy array. The values should be in the range of 0 to 1, inclusive.  The return object should be the same shape as `x`."
   ]
  },
  {
   "cell_type": "code",
   "execution_count": 3,
   "metadata": {
    "collapsed": false,
    "deletable": true,
    "editable": true
   },
   "outputs": [
    {
     "name": "stdout",
     "output_type": "stream",
     "text": [
      "Tests Passed\n"
     ]
    }
   ],
   "source": [
    "def normalize(x):\n",
    "    \"\"\"\n",
    "    Normalize a list of sample image data in the range of 0 to 1\n",
    "    : x: List of image data.  The image shape is (32, 32, 3)\n",
    "    : return: Numpy array of normalize data\n",
    "    \"\"\"\n",
    "    #Since we are note expecting negative values this should be enough\n",
    "    return  x / x.max(axis=0)\n",
    "\n",
    "\n",
    "\"\"\"\n",
    "DON'T MODIFY ANYTHING IN THIS CELL THAT IS BELOW THIS LINE\n",
    "\"\"\"\n",
    "tests.test_normalize(normalize)"
   ]
  },
  {
   "cell_type": "markdown",
   "metadata": {
    "deletable": true,
    "editable": true
   },
   "source": [
    "### One-hot encode\n",
    "Just like the previous code cell, you'll be implementing a function for preprocessing.  This time, you'll implement the `one_hot_encode` function. The input, `x`, are a list of labels.  Implement the function to return the list of labels as One-Hot encoded Numpy array.  The possible values for labels are 0 to 9. The one-hot encoding function should return the same encoding for each value between each call to `one_hot_encode`.  Make sure to save the map of encodings outside the function.\n",
    "\n",
    "Hint: Don't reinvent the wheel."
   ]
  },
  {
   "cell_type": "code",
   "execution_count": 4,
   "metadata": {
    "collapsed": false,
    "deletable": true,
    "editable": true
   },
   "outputs": [
    {
     "data": {
      "text/plain": [
       "LabelBinarizer(neg_label=0, pos_label=1, sparse_output=False)"
      ]
     },
     "execution_count": 4,
     "metadata": {},
     "output_type": "execute_result"
    }
   ],
   "source": [
    "# We need all the labels to be encoded so we get them from a batch\n",
    "\n",
    "from sklearn import preprocessing\n",
    "import helper\n",
    "_, labels = helper.load_cfar10_batch(cifar10_dataset_folder_path, 1)\n",
    "lb = preprocessing.LabelBinarizer()\n",
    "lb.fit(labels)"
   ]
  },
  {
   "cell_type": "code",
   "execution_count": 5,
   "metadata": {
    "collapsed": false,
    "deletable": true,
    "editable": true
   },
   "outputs": [
    {
     "name": "stdout",
     "output_type": "stream",
     "text": [
      "Tests Passed\n"
     ]
    }
   ],
   "source": [
    "def one_hot_encode(x):\n",
    "    \"\"\"\n",
    "    One hot encode a list of sample labels. Return a one-hot encoded vector for each label.\n",
    "    : x: List of sample Labels\n",
    "    : return: Numpy array of one-hot encoded labels\n",
    "    \"\"\"\n",
    "    #print(lb.classes_)\n",
    "    return lb.transform(x)\n",
    "\n",
    "\n",
    "\"\"\"\n",
    "DON'T MODIFY ANYTHING IN THIS CELL THAT IS BELOW THIS LINE\n",
    "\"\"\"\n",
    "tests.test_one_hot_encode(one_hot_encode)"
   ]
  },
  {
   "cell_type": "markdown",
   "metadata": {
    "deletable": true,
    "editable": true
   },
   "source": [
    "### Randomize Data\n",
    "As you saw from exploring the data above, the order of the samples are randomized.  It doesn't hurt to randomize it again, but you don't need to for this dataset."
   ]
  },
  {
   "cell_type": "markdown",
   "metadata": {
    "deletable": true,
    "editable": true
   },
   "source": [
    "## Preprocess all the data and save it\n",
    "Running the code cell below will preprocess all the CIFAR-10 data and save it to file. The code below also uses 10% of the training data for validation."
   ]
  },
  {
   "cell_type": "code",
   "execution_count": 6,
   "metadata": {
    "collapsed": false,
    "deletable": true,
    "editable": true
   },
   "outputs": [],
   "source": [
    "\"\"\"\n",
    "DON'T MODIFY ANYTHING IN THIS CELL\n",
    "\"\"\"\n",
    "# Preprocess Training, Validation, and Testing Data\n",
    "helper.preprocess_and_save_data(cifar10_dataset_folder_path, normalize, one_hot_encode)"
   ]
  },
  {
   "cell_type": "markdown",
   "metadata": {
    "deletable": true,
    "editable": true
   },
   "source": [
    "# Check Point\n",
    "This is your first checkpoint.  If you ever decide to come back to this notebook or have to restart the notebook, you can start from here.  The preprocessed data has been saved to disk."
   ]
  },
  {
   "cell_type": "code",
   "execution_count": 7,
   "metadata": {
    "collapsed": true,
    "deletable": true,
    "editable": true
   },
   "outputs": [],
   "source": [
    "\"\"\"\n",
    "DON'T MODIFY ANYTHING IN THIS CELL\n",
    "\"\"\"\n",
    "import pickle\n",
    "import problem_unittests as tests\n",
    "import helper\n",
    "\n",
    "# Load the Preprocessed Validation data\n",
    "valid_features, valid_labels = pickle.load(open('preprocess_validation.p', mode='rb'))"
   ]
  },
  {
   "cell_type": "markdown",
   "metadata": {
    "deletable": true,
    "editable": true
   },
   "source": [
    "## Build the network\n",
    "For the neural network, you'll build each layer into a function.  Most of the code you've seen has been outside of functions. To test your code more thoroughly, we require that you put each layer in a function.  This allows us to give you better feedback and test for simple mistakes using our unittests before you submit your project.\n",
    "\n",
    ">**Note:** If you're finding it hard to dedicate enough time for this course each week, we've provided a small shortcut to this part of the project. In the next couple of problems, you'll have the option to use classes from the [TensorFlow Layers](https://www.tensorflow.org/api_docs/python/tf/layers) or [TensorFlow Layers (contrib)](https://www.tensorflow.org/api_guides/python/contrib.layers) packages to build each layer, except the layers you build in the \"Convolutional and Max Pooling Layer\" section.  TF Layers is similar to Keras's and TFLearn's abstraction to layers, so it's easy to pickup.\n",
    "\n",
    ">However, if you would like to get the most out of this course, try to solve all the problems _without_ using anything from the TF Layers packages. You **can** still use classes from other packages that happen to have the same name as ones you find in TF Layers! For example, instead of using the TF Layers version of the `conv2d` class, [tf.layers.conv2d](https://www.tensorflow.org/api_docs/python/tf/layers/conv2d), you would want to use the TF Neural Network version of `conv2d`, [tf.nn.conv2d](https://www.tensorflow.org/api_docs/python/tf/nn/conv2d). \n",
    "\n",
    "Let's begin!\n",
    "\n",
    "### Input\n",
    "The neural network needs to read the image data, one-hot encoded labels, and dropout keep probability. Implement the following functions\n",
    "* Implement `neural_net_image_input`\n",
    " * Return a [TF Placeholder](https://www.tensorflow.org/api_docs/python/tf/placeholder)\n",
    " * Set the shape using `image_shape` with batch size set to `None`.\n",
    " * Name the TensorFlow placeholder \"x\" using the TensorFlow `name` parameter in the [TF Placeholder](https://www.tensorflow.org/api_docs/python/tf/placeholder).\n",
    "* Implement `neural_net_label_input`\n",
    " * Return a [TF Placeholder](https://www.tensorflow.org/api_docs/python/tf/placeholder)\n",
    " * Set the shape using `n_classes` with batch size set to `None`.\n",
    " * Name the TensorFlow placeholder \"y\" using the TensorFlow `name` parameter in the [TF Placeholder](https://www.tensorflow.org/api_docs/python/tf/placeholder).\n",
    "* Implement `neural_net_keep_prob_input`\n",
    " * Return a [TF Placeholder](https://www.tensorflow.org/api_docs/python/tf/placeholder) for dropout keep probability.\n",
    " * Name the TensorFlow placeholder \"keep_prob\" using the TensorFlow `name` parameter in the [TF Placeholder](https://www.tensorflow.org/api_docs/python/tf/placeholder).\n",
    "\n",
    "These names will be used at the end of the project to load your saved model.\n",
    "\n",
    "Note: `None` for shapes in TensorFlow allow for a dynamic size."
   ]
  },
  {
   "cell_type": "code",
   "execution_count": 8,
   "metadata": {
    "collapsed": false,
    "deletable": true,
    "editable": true
   },
   "outputs": [
    {
     "name": "stdout",
     "output_type": "stream",
     "text": [
      "Image Input Tests Passed.\n",
      "Label Input Tests Passed.\n",
      "Keep Prob Tests Passed.\n"
     ]
    }
   ],
   "source": [
    "import tensorflow as tf\n",
    "\n",
    "def neural_net_image_input(image_shape):\n",
    "    \"\"\"\n",
    "    Return a Tensor for a batch of image input\n",
    "    : image_shape: Shape of the images\n",
    "    : return: Tensor for image input.\n",
    "    \"\"\"\n",
    "    image_shape = [None,image_shape[0],image_shape[1],image_shape[2]]\n",
    "    return tf.placeholder(tf.float32,shape=image_shape, name=\"x\")\n",
    "\n",
    "\n",
    "def neural_net_label_input(n_classes):\n",
    "    \"\"\"\n",
    "    Return a Tensor for a batch of label input\n",
    "    : n_classes: Number of classes\n",
    "    : return: Tensor for label input.\n",
    "    \"\"\"\n",
    "    label_shape = [None, n_classes]\n",
    "    return tf.placeholder(tf.float32, shape=label_shape, name=\"y\")\n",
    "\n",
    "\n",
    "def neural_net_keep_prob_input():\n",
    "    \"\"\"\n",
    "    Return a Tensor for keep probability\n",
    "    : return: Tensor for keep probability.\n",
    "    \"\"\"\n",
    "    return tf.placeholder(tf.float32, name=\"keep_prob\")\n",
    "\n",
    "\n",
    "\"\"\"\n",
    "DON'T MODIFY ANYTHING IN THIS CELL THAT IS BELOW THIS LINE\n",
    "\"\"\"\n",
    "tf.reset_default_graph()\n",
    "tests.test_nn_image_inputs(neural_net_image_input)\n",
    "tests.test_nn_label_inputs(neural_net_label_input)\n",
    "tests.test_nn_keep_prob_inputs(neural_net_keep_prob_input)"
   ]
  },
  {
   "cell_type": "markdown",
   "metadata": {
    "deletable": true,
    "editable": true
   },
   "source": [
    "### Convolution and Max Pooling Layer\n",
    "Convolution layers have a lot of success with images. For this code cell, you should implement the function `conv2d_maxpool` to apply convolution then max pooling:\n",
    "* Create the weight and bias using `conv_ksize`, `conv_num_outputs` and the shape of `x_tensor`.\n",
    "* Apply a convolution to `x_tensor` using weight and `conv_strides`.\n",
    " * We recommend you use same padding, but you're welcome to use any padding.\n",
    "* Add bias\n",
    "* Add a nonlinear activation to the convolution.\n",
    "* Apply Max Pooling using `pool_ksize` and `pool_strides`.\n",
    " * We recommend you use same padding, but you're welcome to use any padding.\n",
    "\n",
    "**Note:** You **can't** use [TensorFlow Layers](https://www.tensorflow.org/api_docs/python/tf/layers) or [TensorFlow Layers (contrib)](https://www.tensorflow.org/api_guides/python/contrib.layers) for **this** layer, but you can still use TensorFlow's [Neural Network](https://www.tensorflow.org/api_docs/python/tf/nn) package. You may still use the shortcut option for all the **other** layers."
   ]
  },
  {
   "cell_type": "code",
   "execution_count": 58,
   "metadata": {
    "collapsed": false,
    "deletable": true,
    "editable": true
   },
   "outputs": [
    {
     "name": "stdout",
     "output_type": "stream",
     "text": [
      "Weights shape: [2, 2, 5, 10]\n",
      "Tests Passed\n"
     ]
    }
   ],
   "source": [
    "def conv2d_maxpool(x_tensor, conv_num_outputs, conv_ksize, conv_strides, pool_ksize, pool_strides):\n",
    "    \"\"\"\n",
    "    Apply convolution then max pooling to x_tensor\n",
    "    :param x_tensor: TensorFlow Tensor\n",
    "    :param conv_num_outputs: Number of outputs for the convolutional layer\n",
    "    :param conv_ksize: kernal size 2-D Tuple for the convolutional layer\n",
    "    :param conv_strides: Stride 2-D Tuple for convolution\n",
    "    :param pool_ksize: kernal size 2-D Tuple for pool\n",
    "    :param pool_strides: Stride 2-D Tuple for pool\n",
    "    : return: A tensor that represents convolution and max pooling of x_tensor\n",
    "    \"\"\"\n",
    "    channels = x_tensor.get_shape().as_list()[3]\n",
    "    \n",
    "    # height, width, channels, outputs\n",
    "    w_dims = [conv_ksize[0], conv_ksize[1], channels, conv_num_outputs]\n",
    "    print(\"Weights shape: {0}\".format(w_dims))\n",
    "    \n",
    "    n = w_dims[0]*w_dims[1]*w_dims[2]\n",
    "    weights = tf.Variable(tf.truncated_normal(w_dims, stddev=np.sqrt(2.0/n))) # the std shown here gave me better results than the one proposed in the lectures\n",
    "    bias = tf.Variable(tf.zeros([conv_num_outputs]))\n",
    "    \n",
    "    conv_strides = [1,conv_strides[0], conv_strides[1], 1]\n",
    "#     print(\"Strides shape: {0}\".format(conv_strides))\n",
    "    \n",
    "    layer = tf.nn.conv2d(x_tensor, weights, strides=conv_strides, padding='SAME')\n",
    "    layer = tf.nn.bias_add(layer, bias)\n",
    "    layer = tf.nn.relu(layer)\n",
    "    \n",
    "    pool_ksize = [1, pool_ksize[0], pool_ksize[1], 1]\n",
    "    pool_strides = [1, pool_strides[0], pool_strides[1], 1]\n",
    "    \n",
    "    layer = tf.nn.max_pool(layer, ksize=pool_ksize, strides=pool_strides, padding=\"SAME\")\n",
    "    return layer\n",
    "\n",
    "\n",
    "\"\"\"\n",
    "DON'T MODIFY ANYTHING IN THIS CELL THAT IS BELOW THIS LINE\n",
    "\"\"\"\n",
    "tests.test_con_pool(conv2d_maxpool)"
   ]
  },
  {
   "cell_type": "markdown",
   "metadata": {
    "deletable": true,
    "editable": true
   },
   "source": [
    "### Flatten Layer\n",
    "Implement the `flatten` function to change the dimension of `x_tensor` from a 4-D tensor to a 2-D tensor.  The output should be the shape (*Batch Size*, *Flattened Image Size*). Shortcut option: you can use classes from the [TensorFlow Layers](https://www.tensorflow.org/api_docs/python/tf/layers) or [TensorFlow Layers (contrib)](https://www.tensorflow.org/api_guides/python/contrib.layers) packages for this layer. For more of a challenge, only use other TensorFlow packages."
   ]
  },
  {
   "cell_type": "code",
   "execution_count": 59,
   "metadata": {
    "collapsed": false,
    "deletable": true,
    "editable": true
   },
   "outputs": [
    {
     "name": "stdout",
     "output_type": "stream",
     "text": [
      "Tensor(\"Placeholder_3:0\", shape=(?, 10, 30, 6), dtype=float32)\n",
      "Tests Passed\n"
     ]
    }
   ],
   "source": [
    "def flatten(x_tensor):\n",
    "    \"\"\"\n",
    "    Flatten x_tensor to (Batch Size, Flattened Image Size)\n",
    "    : x_tensor: A tensor of size (Batch Size, ...), where ... are the image dimensions.\n",
    "    : return: A tensor of size (Batch Size, Flattened Image Size).\n",
    "    \"\"\"\n",
    "    import numpy as np\n",
    "    print(x_tensor)\n",
    "    t_shape = x_tensor.get_shape().as_list() \n",
    "    batch = t_shape[0] if t_shape[0] is not None else -1\n",
    "    image_size = np.prod(np.array(t_shape[1:]))\n",
    "    return tf.reshape(x_tensor, shape=[batch, image_size])\n",
    "\n",
    "\n",
    "\"\"\"\n",
    "DON'T MODIFY ANYTHING IN THIS CELL THAT IS BELOW THIS LINE\n",
    "\"\"\"\n",
    "tests.test_flatten(flatten)"
   ]
  },
  {
   "cell_type": "markdown",
   "metadata": {
    "deletable": true,
    "editable": true
   },
   "source": [
    "### Fully-Connected Layer\n",
    "Implement the `fully_conn` function to apply a fully connected layer to `x_tensor` with the shape (*Batch Size*, *num_outputs*). Shortcut option: you can use classes from the [TensorFlow Layers](https://www.tensorflow.org/api_docs/python/tf/layers) or [TensorFlow Layers (contrib)](https://www.tensorflow.org/api_guides/python/contrib.layers) packages for this layer. For more of a challenge, only use other TensorFlow packages."
   ]
  },
  {
   "cell_type": "code",
   "execution_count": 60,
   "metadata": {
    "collapsed": false,
    "deletable": true,
    "editable": true
   },
   "outputs": [
    {
     "name": "stdout",
     "output_type": "stream",
     "text": [
      "Tensor(\"Placeholder_4:0\", shape=(?, 128), dtype=float32)\n",
      "Tests Passed\n"
     ]
    }
   ],
   "source": [
    "def fully_conn(x_tensor, num_outputs):\n",
    "    \"\"\"\n",
    "    Apply a fully connected layer to x_tensor using weight and bias\n",
    "    : x_tensor: A 2-D tensor where the first dimension is batch size.\n",
    "    : num_outputs: The number of output that the new tensor should be.\n",
    "    : return: A 2-D tensor where the second dimension is num_outputs.\n",
    "    \"\"\"\n",
    "    print(x_tensor)\n",
    "    x_shape = x_tensor.get_shape().as_list()\n",
    "    w_shape = [x_shape[1], num_outputs]\n",
    "    weights = tf.Variable(tf.truncated_normal(w_shape,stddev=0.01))\n",
    "    bias = tf.zeros([num_outputs])  \n",
    "    layer = tf.matmul(x_tensor, weights) + bias\n",
    "    return tf.nn.relu(layer)\n",
    "\n",
    "\n",
    "\"\"\"\n",
    "DON'T MODIFY ANYTHING IN THIS CELL THAT IS BELOW THIS LINE\n",
    "\"\"\"\n",
    "tests.test_fully_conn(fully_conn)"
   ]
  },
  {
   "cell_type": "markdown",
   "metadata": {
    "deletable": true,
    "editable": true
   },
   "source": [
    "### Output Layer\n",
    "Implement the `output` function to apply a fully connected layer to `x_tensor` with the shape (*Batch Size*, *num_outputs*). Shortcut option: you can use classes from the [TensorFlow Layers](https://www.tensorflow.org/api_docs/python/tf/layers) or [TensorFlow Layers (contrib)](https://www.tensorflow.org/api_guides/python/contrib.layers) packages for this layer. For more of a challenge, only use other TensorFlow packages.\n",
    "\n",
    "**Note:** Activation, softmax, or cross entropy should **not** be applied to this."
   ]
  },
  {
   "cell_type": "code",
   "execution_count": 61,
   "metadata": {
    "collapsed": false,
    "deletable": true,
    "editable": true
   },
   "outputs": [
    {
     "name": "stdout",
     "output_type": "stream",
     "text": [
      "Tensor(\"Placeholder_5:0\", shape=(?, 128), dtype=float32)\n",
      "Tests Passed\n"
     ]
    }
   ],
   "source": [
    "def output(x_tensor, num_outputs):\n",
    "    \"\"\"\n",
    "    Apply a output layer to x_tensor using weight and bias\n",
    "    : x_tensor: A 2-D tensor where the first dimension is batch size.\n",
    "    : num_outputs: The number of output that the new tensor should be.\n",
    "    : return: A 2-D tensor where the second dimension is num_outputs.\n",
    "    \"\"\"\n",
    "    print(x_tensor)\n",
    "    x_shape = x_tensor.get_shape().as_list()\n",
    "    w_shape = [x_shape[1], num_outputs]\n",
    "    weights = tf.Variable(tf.truncated_normal(w_shape,stddev=0.01))\n",
    "    bias = tf.zeros([num_outputs])  \n",
    "    return tf.matmul(x_tensor, weights) + bias\n",
    "\n",
    "\n",
    "\"\"\"\n",
    "DON'T MODIFY ANYTHING IN THIS CELL THAT IS BELOW THIS LINE\n",
    "\"\"\"\n",
    "tests.test_output(output)"
   ]
  },
  {
   "cell_type": "markdown",
   "metadata": {
    "deletable": true,
    "editable": true
   },
   "source": [
    "### Create Convolutional Model\n",
    "Implement the function `conv_net` to create a convolutional neural network model. The function takes in a batch of images, `x`, and outputs logits.  Use the layers you created above to create this model:\n",
    "\n",
    "* Apply 1, 2, or 3 Convolution and Max Pool layers\n",
    "* Apply a Flatten Layer\n",
    "* Apply 1, 2, or 3 Fully Connected Layers\n",
    "* Apply an Output Layer\n",
    "* Return the output\n",
    "* Apply [TensorFlow's Dropout](https://www.tensorflow.org/api_docs/python/tf/nn/dropout) to one or more layers in the model using `keep_prob`. "
   ]
  },
  {
   "cell_type": "code",
   "execution_count": 62,
   "metadata": {
    "collapsed": false,
    "deletable": true,
    "editable": true
   },
   "outputs": [
    {
     "name": "stdout",
     "output_type": "stream",
     "text": [
      "Weights shape: [3, 3, 3, 32]\n",
      "Weights shape: [3, 3, 32, 64]\n",
      "Weights shape: [3, 3, 64, 128]\n",
      "Tensor(\"MaxPool_2:0\", shape=(?, 4, 4, 128), dtype=float32)\n",
      "Tensor(\"dropout/mul:0\", shape=(?, 2048), dtype=float32)\n",
      "Tensor(\"Relu_3:0\", shape=(?, 512), dtype=float32)\n",
      "Weights shape: [3, 3, 3, 32]\n",
      "Weights shape: [3, 3, 32, 64]\n",
      "Weights shape: [3, 3, 64, 128]\n",
      "Tensor(\"MaxPool_5:0\", shape=(?, 4, 4, 128), dtype=float32)\n",
      "Tensor(\"dropout_1/mul:0\", shape=(?, 2048), dtype=float32)\n",
      "Tensor(\"Relu_7:0\", shape=(?, 512), dtype=float32)\n",
      "Neural Network Built!\n"
     ]
    }
   ],
   "source": [
    "def conv_net(x, keep_prob):\n",
    "    \"\"\"\n",
    "    Create a convolutional neural network model\n",
    "    : x: Placeholder tensor that holds image data.\n",
    "    : keep_prob: Placeholder tensor that hold dropout keep probability.\n",
    "    : return: Tensor that represents logits\n",
    "    \"\"\"\n",
    "    #  Apply 1, 2, or 3 Convolution and Max Pool layers\n",
    "    #    Play around with different number of outputs, kernel size and stride\n",
    "    # Function Definition from Above:\n",
    "    #    conv2d_maxpool(x_tensor, conv_num_outputs, conv_ksize, conv_strides, pool_ksize, pool_strides)\n",
    "    conv_ksize = (3,3)\n",
    "    pool_strides = (2,2)\n",
    "\n",
    "    x = conv2d_maxpool(x, 32 , conv_ksize,(1,1),(2,2),pool_strides)\n",
    "#     x = tf.nn.dropout(x, keep_prob)\n",
    "    x = conv2d_maxpool(x, 64 , conv_ksize,(1,1),(2,2),pool_strides)\n",
    "#     x = tf.nn.dropout(x, keep_prob)\n",
    "    x = conv2d_maxpool(x, 128 ,conv_ksize,(1,1),(2,2),pool_strides)     \n",
    "\n",
    "    # Apply a Flatten Layer\n",
    "    # Function Definition from Above:\n",
    "    #   flatten(x_tensor)\n",
    "    x = flatten(x)\n",
    "    \n",
    "\n",
    "    #  Apply 1, 2, or 3 Fully Connected Layers\n",
    "    #    Play around with different number of outputs\n",
    "    # Function Definition from Above:\n",
    "    #   fully_conn(x_tensor, num_outputs)\n",
    "#     x = fully_conn(x, 2048)\n",
    "\n",
    "    x = tf.nn.dropout(x, keep_prob)\n",
    "    x = fully_conn(x, 512)\n",
    "    \n",
    "#     x = tf.nn.dropout(x, keep_prob)\n",
    "#     x = fully_conn(x, 128)\n",
    "    \n",
    "    \n",
    "    #  Apply an Output Layer\n",
    "    return output(x, 10)\n",
    "\n",
    "# Note:\n",
    "# The commented code is other nn architectures I tried that did not give as good results as the final one.\n",
    "\n",
    "\n",
    "\"\"\"\n",
    "DON'T MODIFY ANYTHING IN THIS CELL THAT IS BELOW THIS LINE\n",
    "\"\"\"\n",
    "\n",
    "##############################\n",
    "## Build the Neural Network ##\n",
    "##############################\n",
    "\n",
    "# Remove previous weights, bias, inputs, etc..\n",
    "tf.reset_default_graph()\n",
    "\n",
    "# Inputs\n",
    "x = neural_net_image_input((32, 32, 3))\n",
    "y = neural_net_label_input(10)\n",
    "keep_prob = neural_net_keep_prob_input()\n",
    "\n",
    "# Model\n",
    "logits = conv_net(x, keep_prob)\n",
    "\n",
    "# Name logits Tensor, so that is can be loaded from disk after training\n",
    "logits = tf.identity(logits, name='logits')\n",
    "\n",
    "# Loss and Optimizer\n",
    "cost = tf.reduce_mean(tf.nn.softmax_cross_entropy_with_logits(logits=logits, labels=y))\n",
    "optimizer = tf.train.AdamOptimizer().minimize(cost)\n",
    "\n",
    "# Accuracy\n",
    "correct_pred = tf.equal(tf.argmax(logits, 1), tf.argmax(y, 1))\n",
    "accuracy = tf.reduce_mean(tf.cast(correct_pred, tf.float32), name='accuracy')\n",
    "\n",
    "tests.test_conv_net(conv_net)"
   ]
  },
  {
   "cell_type": "markdown",
   "metadata": {
    "deletable": true,
    "editable": true
   },
   "source": [
    "## Train the Neural Network\n",
    "### Single Optimization\n",
    "Implement the function `train_neural_network` to do a single optimization.  The optimization should use `optimizer` to optimize in `session` with a `feed_dict` of the following:\n",
    "* `x` for image input\n",
    "* `y` for labels\n",
    "* `keep_prob` for keep probability for dropout\n",
    "\n",
    "This function will be called for each batch, so `tf.global_variables_initializer()` has already been called.\n",
    "\n",
    "Note: Nothing needs to be returned. This function is only optimizing the neural network."
   ]
  },
  {
   "cell_type": "code",
   "execution_count": 63,
   "metadata": {
    "collapsed": false,
    "deletable": true,
    "editable": true
   },
   "outputs": [
    {
     "name": "stdout",
     "output_type": "stream",
     "text": [
      "Tests Passed\n"
     ]
    }
   ],
   "source": [
    "def train_neural_network(session, optimizer, keep_probability, feature_batch, label_batch):\n",
    "    \"\"\"\n",
    "    Optimize the session on a batch of images and labels\n",
    "    : session: Current TensorFlow session\n",
    "    : optimizer: TensorFlow optimizer function\n",
    "    : keep_probability: keep probability\n",
    "    : feature_batch: Batch of Numpy image data\n",
    "    : label_batch: Batch of Numpy label data\n",
    "    \"\"\"\n",
    "    session.run(optimizer, \n",
    "                feed_dict={x:feature_batch, \n",
    "                           y:label_batch, \n",
    "                           keep_prob: keep_probability})\n",
    "        \n",
    "\n",
    "\n",
    "\"\"\"\n",
    "DON'T MODIFY ANYTHING IN THIS CELL THAT IS BELOW THIS LINE\n",
    "\"\"\"\n",
    "tests.test_train_nn(train_neural_network)"
   ]
  },
  {
   "cell_type": "markdown",
   "metadata": {
    "deletable": true,
    "editable": true
   },
   "source": [
    "### Show Stats\n",
    "Implement the function `print_stats` to print loss and validation accuracy.  Use the global variables `valid_features` and `valid_labels` to calculate validation accuracy.  Use a keep probability of `1.0` to calculate the loss and validation accuracy."
   ]
  },
  {
   "cell_type": "code",
   "execution_count": 64,
   "metadata": {
    "collapsed": false,
    "deletable": true,
    "editable": true
   },
   "outputs": [],
   "source": [
    "def print_stats(session, feature_batch, label_batch, cost, accuracy):\n",
    "    \"\"\"\n",
    "    Print information about loss and validation accuracy\n",
    "    : session: Current TensorFlow session\n",
    "    : feature_batch: Batch of Numpy image data\n",
    "    : label_batch: Batch of Numpy label data\n",
    "    : cost: TensorFlow cost function\n",
    "    : accuracy: TensorFlow accuracy function\n",
    "    \"\"\"\n",
    "    loss = sess.run(cost, feed_dict={\n",
    "                x: feature_batch,\n",
    "                y: label_batch,\n",
    "                keep_prob: 1.})\n",
    "    valid_acc = session.run(accuracy, \n",
    "                            feed_dict={\n",
    "                                x: valid_features,\n",
    "                                y: valid_labels,\n",
    "                                keep_prob: 1.})\n",
    "    print(\"Loss: {} Validation Acurracy: {:>5}\".format(loss, valid_acc))"
   ]
  },
  {
   "cell_type": "markdown",
   "metadata": {
    "deletable": true,
    "editable": true
   },
   "source": [
    "### Hyperparameters\n",
    "Tune the following parameters:\n",
    "* Set `epochs` to the number of iterations until the network stops learning or start overfitting\n",
    "* Set `batch_size` to the highest number that your machine has memory for.  Most people set them to common sizes of memory:\n",
    " * 64\n",
    " * 128\n",
    " * 256\n",
    " * ...\n",
    "* Set `keep_probability` to the probability of keeping a node using dropout"
   ]
  },
  {
   "cell_type": "code",
   "execution_count": 2,
   "metadata": {
    "collapsed": true,
    "deletable": true,
    "editable": true
   },
   "outputs": [],
   "source": [
    "# Tune Parameters\n",
    "epochs = 35\n",
    "batch_size = 128\n",
    "keep_probability = 0.2\n",
    "\n",
    "# Note:\n",
    "#  35 was the least ammount of epochs I could use to get decent accuracy. \n",
    "#  I could have trained it longer, but the decide to show off the speed at which this net can achieve decent accuracy"
   ]
  },
  {
   "cell_type": "markdown",
   "metadata": {
    "deletable": true,
    "editable": true
   },
   "source": [
    "### Train on a Single CIFAR-10 Batch\n",
    "Instead of training the neural network on all the CIFAR-10 batches of data, let's use a single batch. This should save time while you iterate on the model to get a better accuracy.  Once the final validation accuracy is 50% or greater, run the model on all the data in the next section."
   ]
  },
  {
   "cell_type": "code",
   "execution_count": 66,
   "metadata": {
    "collapsed": false,
    "deletable": true,
    "editable": true
   },
   "outputs": [
    {
     "name": "stdout",
     "output_type": "stream",
     "text": [
      "Checking the Training on a Single Batch...\n",
      "Epoch  1, CIFAR-10 Batch 1:  Loss: 2.037569046020508 Validation Acurracy: 0.36479997634887695\n",
      "Epoch  2, CIFAR-10 Batch 1:  Loss: 1.8583240509033203 Validation Acurracy: 0.4075999855995178\n",
      "Epoch  3, CIFAR-10 Batch 1:  Loss: 1.6927320957183838 Validation Acurracy: 0.4567999541759491\n",
      "Epoch  4, CIFAR-10 Batch 1:  Loss: 1.5455315113067627 Validation Acurracy: 0.4747999608516693\n",
      "Epoch  5, CIFAR-10 Batch 1:  Loss: 1.3943510055541992 Validation Acurracy: 0.4995999336242676\n",
      "Epoch  6, CIFAR-10 Batch 1:  Loss: 1.287325382232666 Validation Acurracy: 0.5247999429702759\n",
      "Epoch  7, CIFAR-10 Batch 1:  Loss: 1.1978908777236938 Validation Acurracy: 0.5211999416351318\n",
      "Epoch  8, CIFAR-10 Batch 1:  Loss: 1.0820294618606567 Validation Acurracy: 0.5451999306678772\n",
      "Epoch  9, CIFAR-10 Batch 1:  Loss: 0.9595956206321716 Validation Acurracy: 0.5687999725341797\n",
      "Epoch 10, CIFAR-10 Batch 1:  Loss: 0.8849961161613464 Validation Acurracy: 0.5701999068260193\n",
      "Epoch 11, CIFAR-10 Batch 1:  Loss: 0.8114627599716187 Validation Acurracy: 0.5795998573303223\n",
      "Epoch 12, CIFAR-10 Batch 1:  Loss: 0.8027405142784119 Validation Acurracy: 0.5863999128341675\n",
      "Epoch 13, CIFAR-10 Batch 1:  Loss: 0.742753267288208 Validation Acurracy: 0.6061999201774597\n",
      "Epoch 14, CIFAR-10 Batch 1:  Loss: 0.6739264726638794 Validation Acurracy: 0.6143998503684998\n",
      "Epoch 15, CIFAR-10 Batch 1:  Loss: 0.662190854549408 Validation Acurracy: 0.6121999025344849\n",
      "Epoch 16, CIFAR-10 Batch 1:  Loss: 0.5692250728607178 Validation Acurracy: 0.6279999017715454\n",
      "Epoch 17, CIFAR-10 Batch 1:  Loss: 0.530281126499176 Validation Acurracy: 0.6343998908996582\n",
      "Epoch 18, CIFAR-10 Batch 1:  Loss: 0.48192310333251953 Validation Acurracy: 0.6359999179840088\n",
      "Epoch 19, CIFAR-10 Batch 1:  Loss: 0.48168468475341797 Validation Acurracy: 0.6311998963356018\n",
      "Epoch 20, CIFAR-10 Batch 1:  Loss: 0.45252394676208496 Validation Acurracy: 0.6241999268531799\n",
      "Epoch 21, CIFAR-10 Batch 1:  Loss: 0.441387802362442 Validation Acurracy: 0.6215999126434326\n",
      "Epoch 22, CIFAR-10 Batch 1:  Loss: 0.3679819107055664 Validation Acurracy: 0.6447998881340027\n",
      "Epoch 23, CIFAR-10 Batch 1:  Loss: 0.3175881803035736 Validation Acurracy: 0.6439999341964722\n",
      "Epoch 24, CIFAR-10 Batch 1:  Loss: 0.31487056612968445 Validation Acurracy: 0.6299999356269836\n",
      "Epoch 25, CIFAR-10 Batch 1:  Loss: 0.3020378351211548 Validation Acurracy: 0.6577998399734497\n",
      "Epoch 26, CIFAR-10 Batch 1:  Loss: 0.2602173984050751 Validation Acurracy: 0.6489998698234558\n",
      "Epoch 27, CIFAR-10 Batch 1:  Loss: 0.2530342638492584 Validation Acurracy: 0.6525998711585999\n",
      "Epoch 28, CIFAR-10 Batch 1:  Loss: 0.24541246891021729 Validation Acurracy: 0.6329999566078186\n",
      "Epoch 29, CIFAR-10 Batch 1:  Loss: 0.19030556082725525 Validation Acurracy: 0.6685998439788818\n",
      "Epoch 30, CIFAR-10 Batch 1:  Loss: 0.17332923412322998 Validation Acurracy: 0.6645998954772949\n",
      "Epoch 31, CIFAR-10 Batch 1:  Loss: 0.176335871219635 Validation Acurracy: 0.6677998900413513\n",
      "Epoch 32, CIFAR-10 Batch 1:  Loss: 0.16632282733917236 Validation Acurracy: 0.6635999083518982\n",
      "Epoch 33, CIFAR-10 Batch 1:  Loss: 0.1613721400499344 Validation Acurracy: 0.6671998500823975\n",
      "Epoch 34, CIFAR-10 Batch 1:  Loss: 0.14314766228199005 Validation Acurracy: 0.6837998628616333\n",
      "Epoch 35, CIFAR-10 Batch 1:  Loss: 0.15331333875656128 Validation Acurracy: 0.6853998899459839\n"
     ]
    }
   ],
   "source": [
    "\"\"\"\n",
    "DON'T MODIFY ANYTHING IN THIS CELL\n",
    "\"\"\"\n",
    "print('Checking the Training on a Single Batch...')\n",
    "with tf.Session() as sess:\n",
    "    # Initializing the variables\n",
    "    sess.run(tf.global_variables_initializer())\n",
    "    \n",
    "    # Training cycle\n",
    "    for epoch in range(epochs):\n",
    "        batch_i = 1\n",
    "        for batch_features, batch_labels in helper.load_preprocess_training_batch(batch_i, batch_size):\n",
    "            train_neural_network(sess, optimizer, keep_probability, batch_features, batch_labels)\n",
    "        print('Epoch {:>2}, CIFAR-10 Batch {}:  '.format(epoch + 1, batch_i), end='')\n",
    "        print_stats(sess, batch_features, batch_labels, cost, accuracy)"
   ]
  },
  {
   "cell_type": "markdown",
   "metadata": {
    "deletable": true,
    "editable": true
   },
   "source": [
    "### Fully Train the Model\n",
    "Now that you got a good accuracy with a single CIFAR-10 batch, try it with all five batches."
   ]
  },
  {
   "cell_type": "code",
   "execution_count": 47,
   "metadata": {
    "collapsed": false,
    "deletable": true,
    "editable": true
   },
   "outputs": [
    {
     "name": "stdout",
     "output_type": "stream",
     "text": [
      "Training...\n",
      "Epoch  1, CIFAR-10 Batch 1:  Loss: 1.977742075920105 Validation Acurracy: 0.3686000108718872\n",
      "Epoch  1, CIFAR-10 Batch 2:  Loss: 1.5616201162338257 Validation Acurracy: 0.41440001130104065\n",
      "Epoch  1, CIFAR-10 Batch 3:  Loss: 1.4503793716430664 Validation Acurracy: 0.44759994745254517\n",
      "Epoch  1, CIFAR-10 Batch 4:  Loss: 1.5075513124465942 Validation Acurracy: 0.47279995679855347\n",
      "Epoch  1, CIFAR-10 Batch 5:  Loss: 1.4626061916351318 Validation Acurracy: 0.4901999533176422\n",
      "Epoch  2, CIFAR-10 Batch 1:  Loss: 1.551309585571289 Validation Acurracy: 0.4957999587059021\n",
      "Epoch  2, CIFAR-10 Batch 2:  Loss: 1.3066234588623047 Validation Acurracy: 0.5179999470710754\n",
      "Epoch  2, CIFAR-10 Batch 3:  Loss: 1.1303354501724243 Validation Acurracy: 0.5259999632835388\n",
      "Epoch  2, CIFAR-10 Batch 4:  Loss: 1.2815618515014648 Validation Acurracy: 0.5495999455451965\n",
      "Epoch  2, CIFAR-10 Batch 5:  Loss: 1.2365617752075195 Validation Acurracy: 0.5605999231338501\n",
      "Epoch  3, CIFAR-10 Batch 1:  Loss: 1.2683210372924805 Validation Acurracy: 0.5585999488830566\n",
      "Epoch  3, CIFAR-10 Batch 2:  Loss: 1.157814383506775 Validation Acurracy: 0.597399890422821\n",
      "Epoch  3, CIFAR-10 Batch 3:  Loss: 1.0200897455215454 Validation Acurracy: 0.5897999405860901\n",
      "Epoch  3, CIFAR-10 Batch 4:  Loss: 1.0258344411849976 Validation Acurracy: 0.5883999466896057\n",
      "Epoch  3, CIFAR-10 Batch 5:  Loss: 1.0685622692108154 Validation Acurracy: 0.6205998659133911\n",
      "Epoch  4, CIFAR-10 Batch 1:  Loss: 1.0734951496124268 Validation Acurracy: 0.6195999383926392\n",
      "Epoch  4, CIFAR-10 Batch 2:  Loss: 1.0254560708999634 Validation Acurracy: 0.6251999139785767\n",
      "Epoch  4, CIFAR-10 Batch 3:  Loss: 0.8317325115203857 Validation Acurracy: 0.6387999057769775\n",
      "Epoch  4, CIFAR-10 Batch 4:  Loss: 0.9021320939064026 Validation Acurracy: 0.6243998408317566\n",
      "Epoch  4, CIFAR-10 Batch 5:  Loss: 0.919428825378418 Validation Acurracy: 0.6535998582839966\n",
      "Epoch  5, CIFAR-10 Batch 1:  Loss: 0.9394096732139587 Validation Acurracy: 0.6269999146461487\n",
      "Epoch  5, CIFAR-10 Batch 2:  Loss: 0.9259500503540039 Validation Acurracy: 0.6567999124526978\n",
      "Epoch  5, CIFAR-10 Batch 3:  Loss: 0.7037818431854248 Validation Acurracy: 0.6449999213218689\n",
      "Epoch  5, CIFAR-10 Batch 4:  Loss: 0.8022907376289368 Validation Acurracy: 0.6515999436378479\n",
      "Epoch  5, CIFAR-10 Batch 5:  Loss: 0.860047459602356 Validation Acurracy: 0.671799898147583\n",
      "Epoch  6, CIFAR-10 Batch 1:  Loss: 0.8578689098358154 Validation Acurracy: 0.663399875164032\n",
      "Epoch  6, CIFAR-10 Batch 2:  Loss: 0.8607618808746338 Validation Acurracy: 0.6713998317718506\n",
      "Epoch  6, CIFAR-10 Batch 3:  Loss: 0.6260356903076172 Validation Acurracy: 0.6707999110221863\n",
      "Epoch  6, CIFAR-10 Batch 4:  Loss: 0.7304009199142456 Validation Acurracy: 0.6759998798370361\n",
      "Epoch  6, CIFAR-10 Batch 5:  Loss: 0.7617337703704834 Validation Acurracy: 0.6883999109268188\n",
      "Epoch  7, CIFAR-10 Batch 1:  Loss: 0.814806342124939 Validation Acurracy: 0.6911998391151428\n",
      "Epoch  7, CIFAR-10 Batch 2:  Loss: 0.7439873814582825 Validation Acurracy: 0.6709998846054077\n",
      "Epoch  7, CIFAR-10 Batch 3:  Loss: 0.5529813766479492 Validation Acurracy: 0.68479984998703\n",
      "Epoch  7, CIFAR-10 Batch 4:  Loss: 0.6734651327133179 Validation Acurracy: 0.6949999332427979\n",
      "Epoch  7, CIFAR-10 Batch 5:  Loss: 0.695531964302063 Validation Acurracy: 0.7049998641014099\n",
      "Epoch  8, CIFAR-10 Batch 1:  Loss: 0.7249627113342285 Validation Acurracy: 0.6985998749732971\n",
      "Epoch  8, CIFAR-10 Batch 2:  Loss: 0.746887743473053 Validation Acurracy: 0.6907998919487\n",
      "Epoch  8, CIFAR-10 Batch 3:  Loss: 0.5301777124404907 Validation Acurracy: 0.7011998891830444\n",
      "Epoch  8, CIFAR-10 Batch 4:  Loss: 0.6235330104827881 Validation Acurracy: 0.7117998600006104\n",
      "Epoch  8, CIFAR-10 Batch 5:  Loss: 0.6676375269889832 Validation Acurracy: 0.7089998722076416\n",
      "Epoch  9, CIFAR-10 Batch 1:  Loss: 0.7063207626342773 Validation Acurracy: 0.6983998417854309\n",
      "Epoch  9, CIFAR-10 Batch 2:  Loss: 0.6885493993759155 Validation Acurracy: 0.6903998851776123\n",
      "Epoch  9, CIFAR-10 Batch 3:  Loss: 0.469196081161499 Validation Acurracy: 0.718599796295166\n",
      "Epoch  9, CIFAR-10 Batch 4:  Loss: 0.5764340758323669 Validation Acurracy: 0.7147998809814453\n",
      "Epoch  9, CIFAR-10 Batch 5:  Loss: 0.6556676030158997 Validation Acurracy: 0.7153998613357544\n",
      "Epoch 10, CIFAR-10 Batch 1:  Loss: 0.648361325263977 Validation Acurracy: 0.7223998308181763\n",
      "Epoch 10, CIFAR-10 Batch 2:  Loss: 0.6239397525787354 Validation Acurracy: 0.715199887752533\n",
      "Epoch 10, CIFAR-10 Batch 3:  Loss: 0.4320465624332428 Validation Acurracy: 0.7325998544692993\n",
      "Epoch 10, CIFAR-10 Batch 4:  Loss: 0.4926058053970337 Validation Acurracy: 0.72819983959198\n",
      "Epoch 10, CIFAR-10 Batch 5:  Loss: 0.576950192451477 Validation Acurracy: 0.7209997773170471\n",
      "Epoch 11, CIFAR-10 Batch 1:  Loss: 0.627780556678772 Validation Acurracy: 0.7235998511314392\n",
      "Epoch 11, CIFAR-10 Batch 2:  Loss: 0.5880606174468994 Validation Acurracy: 0.7193998694419861\n",
      "Epoch 11, CIFAR-10 Batch 3:  Loss: 0.4540669918060303 Validation Acurracy: 0.7295998930931091\n",
      "Epoch 11, CIFAR-10 Batch 4:  Loss: 0.46262359619140625 Validation Acurracy: 0.7281997799873352\n",
      "Epoch 11, CIFAR-10 Batch 5:  Loss: 0.5439053177833557 Validation Acurracy: 0.7301998138427734\n",
      "Epoch 12, CIFAR-10 Batch 1:  Loss: 0.5593495965003967 Validation Acurracy: 0.7285998463630676\n",
      "Epoch 12, CIFAR-10 Batch 2:  Loss: 0.5348572134971619 Validation Acurracy: 0.7369998097419739\n",
      "Epoch 12, CIFAR-10 Batch 3:  Loss: 0.367183119058609 Validation Acurracy: 0.7389998435974121\n",
      "Epoch 12, CIFAR-10 Batch 4:  Loss: 0.4542582035064697 Validation Acurracy: 0.7411998510360718\n",
      "Epoch 12, CIFAR-10 Batch 5:  Loss: 0.5355111360549927 Validation Acurracy: 0.7385998368263245\n",
      "Epoch 13, CIFAR-10 Batch 1:  Loss: 0.5779197216033936 Validation Acurracy: 0.7385998964309692\n",
      "Epoch 13, CIFAR-10 Batch 2:  Loss: 0.5812321305274963 Validation Acurracy: 0.7259997725486755\n",
      "Epoch 13, CIFAR-10 Batch 3:  Loss: 0.3671039938926697 Validation Acurracy: 0.7439998388290405\n",
      "Epoch 13, CIFAR-10 Batch 4:  Loss: 0.41910290718078613 Validation Acurracy: 0.7421998381614685\n",
      "Epoch 13, CIFAR-10 Batch 5:  Loss: 0.4763060212135315 Validation Acurracy: 0.7325998544692993\n",
      "Epoch 14, CIFAR-10 Batch 1:  Loss: 0.5242316722869873 Validation Acurracy: 0.7431998252868652\n",
      "Epoch 14, CIFAR-10 Batch 2:  Loss: 0.49376559257507324 Validation Acurracy: 0.7459998726844788\n",
      "Epoch 14, CIFAR-10 Batch 3:  Loss: 0.360547810792923 Validation Acurracy: 0.7481998801231384\n",
      "Epoch 14, CIFAR-10 Batch 4:  Loss: 0.4135723114013672 Validation Acurracy: 0.7451997995376587\n",
      "Epoch 14, CIFAR-10 Batch 5:  Loss: 0.47167229652404785 Validation Acurracy: 0.7421998381614685\n",
      "Epoch 15, CIFAR-10 Batch 1:  Loss: 0.5127730965614319 Validation Acurracy: 0.7539998292922974\n",
      "Epoch 15, CIFAR-10 Batch 2:  Loss: 0.501531183719635 Validation Acurracy: 0.7559998631477356\n",
      "Epoch 15, CIFAR-10 Batch 3:  Loss: 0.33588922023773193 Validation Acurracy: 0.7487998604774475\n",
      "Epoch 15, CIFAR-10 Batch 4:  Loss: 0.42353636026382446 Validation Acurracy: 0.760199785232544\n",
      "Epoch 15, CIFAR-10 Batch 5:  Loss: 0.435471773147583 Validation Acurracy: 0.7549998164176941\n",
      "Epoch 16, CIFAR-10 Batch 1:  Loss: 0.47747093439102173 Validation Acurracy: 0.7499998211860657\n",
      "Epoch 16, CIFAR-10 Batch 2:  Loss: 0.5013964772224426 Validation Acurracy: 0.7361998558044434\n",
      "Epoch 16, CIFAR-10 Batch 3:  Loss: 0.33123499155044556 Validation Acurracy: 0.748999834060669\n",
      "Epoch 16, CIFAR-10 Batch 4:  Loss: 0.38401514291763306 Validation Acurracy: 0.7583998441696167\n",
      "Epoch 16, CIFAR-10 Batch 5:  Loss: 0.41284629702568054 Validation Acurracy: 0.7415997982025146\n",
      "Epoch 17, CIFAR-10 Batch 1:  Loss: 0.4884345233440399 Validation Acurracy: 0.7533998489379883\n",
      "Epoch 17, CIFAR-10 Batch 2:  Loss: 0.4548063576221466 Validation Acurracy: 0.7603998184204102\n",
      "Epoch 17, CIFAR-10 Batch 3:  Loss: 0.3190772235393524 Validation Acurracy: 0.7619998455047607\n",
      "Epoch 17, CIFAR-10 Batch 4:  Loss: 0.383097380399704 Validation Acurracy: 0.7697998285293579\n",
      "Epoch 17, CIFAR-10 Batch 5:  Loss: 0.4033091068267822 Validation Acurracy: 0.7569998502731323\n",
      "Epoch 18, CIFAR-10 Batch 1:  Loss: 0.5059366226196289 Validation Acurracy: 0.749599814414978\n",
      "Epoch 18, CIFAR-10 Batch 2:  Loss: 0.4139277935028076 Validation Acurracy: 0.7653998136520386\n",
      "Epoch 18, CIFAR-10 Batch 3:  Loss: 0.3066205382347107 Validation Acurracy: 0.7615998387336731\n",
      "Epoch 18, CIFAR-10 Batch 4:  Loss: 0.35203585028648376 Validation Acurracy: 0.7683998346328735\n",
      "Epoch 18, CIFAR-10 Batch 5:  Loss: 0.3857114613056183 Validation Acurracy: 0.7599998116493225\n",
      "Epoch 19, CIFAR-10 Batch 1:  Loss: 0.43172842264175415 Validation Acurracy: 0.7647998332977295\n",
      "Epoch 19, CIFAR-10 Batch 2:  Loss: 0.3841322958469391 Validation Acurracy: 0.7641998529434204\n",
      "Epoch 19, CIFAR-10 Batch 3:  Loss: 0.2710341811180115 Validation Acurracy: 0.7657998204231262\n",
      "Epoch 19, CIFAR-10 Batch 4:  Loss: 0.3333776593208313 Validation Acurracy: 0.7751997709274292\n",
      "Epoch 19, CIFAR-10 Batch 5:  Loss: 0.33786168694496155 Validation Acurracy: 0.7625998258590698\n",
      "Epoch 20, CIFAR-10 Batch 1:  Loss: 0.425947368144989 Validation Acurracy: 0.7549998164176941\n",
      "Epoch 20, CIFAR-10 Batch 2:  Loss: 0.39996734261512756 Validation Acurracy: 0.7719998359680176\n",
      "Epoch 20, CIFAR-10 Batch 3:  Loss: 0.30107957124710083 Validation Acurracy: 0.7725998759269714\n",
      "Epoch 20, CIFAR-10 Batch 4:  Loss: 0.3444129228591919 Validation Acurracy: 0.7777997851371765\n",
      "Epoch 20, CIFAR-10 Batch 5:  Loss: 0.35456448793411255 Validation Acurracy: 0.7621998190879822\n",
      "Epoch 21, CIFAR-10 Batch 1:  Loss: 0.4331584870815277 Validation Acurracy: 0.7683998942375183\n",
      "Epoch 21, CIFAR-10 Batch 2:  Loss: 0.35462385416030884 Validation Acurracy: 0.7703997492790222\n",
      "Epoch 21, CIFAR-10 Batch 3:  Loss: 0.29270362854003906 Validation Acurracy: 0.7695997953414917\n",
      "Epoch 21, CIFAR-10 Batch 4:  Loss: 0.3164202868938446 Validation Acurracy: 0.7699998021125793\n",
      "Epoch 21, CIFAR-10 Batch 5:  Loss: 0.32046765089035034 Validation Acurracy: 0.7631997466087341\n",
      "Epoch 22, CIFAR-10 Batch 1:  Loss: 0.376569926738739 Validation Acurracy: 0.7665998339653015\n",
      "Epoch 22, CIFAR-10 Batch 2:  Loss: 0.3394024968147278 Validation Acurracy: 0.7693998217582703\n",
      "Epoch 22, CIFAR-10 Batch 3:  Loss: 0.2743048667907715 Validation Acurracy: 0.7677997946739197\n",
      "Epoch 22, CIFAR-10 Batch 4:  Loss: 0.28261834383010864 Validation Acurracy: 0.7727997303009033\n",
      "Epoch 22, CIFAR-10 Batch 5:  Loss: 0.30773699283599854 Validation Acurracy: 0.767599880695343\n",
      "Epoch 23, CIFAR-10 Batch 1:  Loss: 0.3687872886657715 Validation Acurracy: 0.7747998237609863\n",
      "Epoch 23, CIFAR-10 Batch 2:  Loss: 0.34545981884002686 Validation Acurracy: 0.7679997682571411\n",
      "Epoch 23, CIFAR-10 Batch 3:  Loss: 0.231321319937706 Validation Acurracy: 0.7805997729301453\n",
      "Epoch 23, CIFAR-10 Batch 4:  Loss: 0.30810362100601196 Validation Acurracy: 0.7747998237609863\n",
      "Epoch 23, CIFAR-10 Batch 5:  Loss: 0.33486035466194153 Validation Acurracy: 0.7631998062133789\n",
      "Epoch 24, CIFAR-10 Batch 1:  Loss: 0.42198091745376587 Validation Acurracy: 0.7689998149871826\n",
      "Epoch 24, CIFAR-10 Batch 2:  Loss: 0.3222385048866272 Validation Acurracy: 0.7811998128890991\n",
      "Epoch 24, CIFAR-10 Batch 3:  Loss: 0.2374233901500702 Validation Acurracy: 0.7725998163223267\n",
      "Epoch 24, CIFAR-10 Batch 4:  Loss: 0.26380103826522827 Validation Acurracy: 0.7743998765945435\n",
      "Epoch 24, CIFAR-10 Batch 5:  Loss: 0.30334043502807617 Validation Acurracy: 0.7663998603820801\n",
      "Epoch 25, CIFAR-10 Batch 1:  Loss: 0.3708207905292511 Validation Acurracy: 0.773999810218811\n",
      "Epoch 25, CIFAR-10 Batch 2:  Loss: 0.3064703345298767 Validation Acurracy: 0.7689998149871826\n",
      "Epoch 25, CIFAR-10 Batch 3:  Loss: 0.26063770055770874 Validation Acurracy: 0.7791998386383057\n",
      "Epoch 25, CIFAR-10 Batch 4:  Loss: 0.30090343952178955 Validation Acurracy: 0.7841998338699341\n",
      "Epoch 25, CIFAR-10 Batch 5:  Loss: 0.3157668113708496 Validation Acurracy: 0.773399829864502\n",
      "Epoch 26, CIFAR-10 Batch 1:  Loss: 0.36123815178871155 Validation Acurracy: 0.7783998250961304\n",
      "Epoch 26, CIFAR-10 Batch 2:  Loss: 0.2830446660518646 Validation Acurracy: 0.78059983253479\n",
      "Epoch 26, CIFAR-10 Batch 3:  Loss: 0.2684231698513031 Validation Acurracy: 0.7865998148918152\n",
      "Epoch 26, CIFAR-10 Batch 4:  Loss: 0.2507409155368805 Validation Acurracy: 0.7873998880386353\n",
      "Epoch 26, CIFAR-10 Batch 5:  Loss: 0.2963051199913025 Validation Acurracy: 0.7699998021125793\n",
      "Epoch 27, CIFAR-10 Batch 1:  Loss: 0.3234110474586487 Validation Acurracy: 0.7755998373031616\n",
      "Epoch 27, CIFAR-10 Batch 2:  Loss: 0.30505383014678955 Validation Acurracy: 0.7741998434066772\n",
      "Epoch 27, CIFAR-10 Batch 3:  Loss: 0.2450454831123352 Validation Acurracy: 0.7829997539520264\n",
      "Epoch 27, CIFAR-10 Batch 4:  Loss: 0.22201234102249146 Validation Acurracy: 0.7905998229980469\n",
      "Epoch 27, CIFAR-10 Batch 5:  Loss: 0.29333561658859253 Validation Acurracy: 0.7701998949050903\n",
      "Epoch 28, CIFAR-10 Batch 1:  Loss: 0.35999059677124023 Validation Acurracy: 0.778799831867218\n",
      "Epoch 28, CIFAR-10 Batch 2:  Loss: 0.26787668466567993 Validation Acurracy: 0.7813998460769653\n",
      "Epoch 28, CIFAR-10 Batch 3:  Loss: 0.23908904194831848 Validation Acurracy: 0.7767997980117798\n",
      "Epoch 28, CIFAR-10 Batch 4:  Loss: 0.22965645790100098 Validation Acurracy: 0.779999852180481\n",
      "Epoch 28, CIFAR-10 Batch 5:  Loss: 0.2962876558303833 Validation Acurracy: 0.7713998556137085\n",
      "Epoch 29, CIFAR-10 Batch 1:  Loss: 0.30318230390548706 Validation Acurracy: 0.7837998270988464\n",
      "Epoch 29, CIFAR-10 Batch 2:  Loss: 0.28654614090919495 Validation Acurracy: 0.7895998954772949\n",
      "Epoch 29, CIFAR-10 Batch 3:  Loss: 0.22428447008132935 Validation Acurracy: 0.7821998000144958\n",
      "Epoch 29, CIFAR-10 Batch 4:  Loss: 0.2344934046268463 Validation Acurracy: 0.7809997797012329\n",
      "Epoch 29, CIFAR-10 Batch 5:  Loss: 0.266988068819046 Validation Acurracy: 0.7701998353004456\n",
      "Epoch 30, CIFAR-10 Batch 1:  Loss: 0.3105441629886627 Validation Acurracy: 0.7767997980117798\n",
      "Epoch 30, CIFAR-10 Batch 2:  Loss: 0.25466835498809814 Validation Acurracy: 0.7819997668266296\n",
      "Epoch 30, CIFAR-10 Batch 3:  Loss: 0.21826130151748657 Validation Acurracy: 0.7865998148918152\n",
      "Epoch 30, CIFAR-10 Batch 4:  Loss: 0.2153300642967224 Validation Acurracy: 0.7895998358726501\n",
      "Epoch 30, CIFAR-10 Batch 5:  Loss: 0.2500790059566498 Validation Acurracy: 0.7857998609542847\n",
      "Epoch 31, CIFAR-10 Batch 1:  Loss: 0.281591534614563 Validation Acurracy: 0.7827998399734497\n",
      "Epoch 31, CIFAR-10 Batch 2:  Loss: 0.2646123766899109 Validation Acurracy: 0.7835997939109802\n",
      "Epoch 31, CIFAR-10 Batch 3:  Loss: 0.2335911989212036 Validation Acurracy: 0.7891998291015625\n",
      "Epoch 31, CIFAR-10 Batch 4:  Loss: 0.2036634087562561 Validation Acurracy: 0.7905998229980469\n",
      "Epoch 31, CIFAR-10 Batch 5:  Loss: 0.270763635635376 Validation Acurracy: 0.7661997675895691\n",
      "Epoch 32, CIFAR-10 Batch 1:  Loss: 0.3017794191837311 Validation Acurracy: 0.7867997884750366\n",
      "Epoch 32, CIFAR-10 Batch 2:  Loss: 0.28181105852127075 Validation Acurracy: 0.7775998115539551\n",
      "Epoch 32, CIFAR-10 Batch 3:  Loss: 0.21015261113643646 Validation Acurracy: 0.7877997756004333\n",
      "Epoch 32, CIFAR-10 Batch 4:  Loss: 0.18936565518379211 Validation Acurracy: 0.785399854183197\n",
      "Epoch 32, CIFAR-10 Batch 5:  Loss: 0.23452845215797424 Validation Acurracy: 0.7797998189926147\n",
      "Epoch 33, CIFAR-10 Batch 1:  Loss: 0.3070913255214691 Validation Acurracy: 0.7849997878074646\n",
      "Epoch 33, CIFAR-10 Batch 2:  Loss: 0.27930986881256104 Validation Acurracy: 0.7801998257637024\n",
      "Epoch 33, CIFAR-10 Batch 3:  Loss: 0.23659196496009827 Validation Acurracy: 0.7743998169898987\n",
      "Epoch 33, CIFAR-10 Batch 4:  Loss: 0.1913582980632782 Validation Acurracy: 0.7861998081207275\n",
      "Epoch 33, CIFAR-10 Batch 5:  Loss: 0.23903411626815796 Validation Acurracy: 0.7779998779296875\n",
      "Epoch 34, CIFAR-10 Batch 1:  Loss: 0.28456881642341614 Validation Acurracy: 0.7861998081207275\n",
      "Epoch 34, CIFAR-10 Batch 2:  Loss: 0.2002164125442505 Validation Acurracy: 0.7897998094558716\n",
      "Epoch 34, CIFAR-10 Batch 3:  Loss: 0.24228426814079285 Validation Acurracy: 0.7859997749328613\n",
      "Epoch 34, CIFAR-10 Batch 4:  Loss: 0.19892585277557373 Validation Acurracy: 0.7903997898101807\n",
      "Epoch 34, CIFAR-10 Batch 5:  Loss: 0.22160367667675018 Validation Acurracy: 0.7833998203277588\n",
      "Epoch 35, CIFAR-10 Batch 1:  Loss: 0.25299715995788574 Validation Acurracy: 0.7935997843742371\n",
      "Epoch 35, CIFAR-10 Batch 2:  Loss: 0.2317187339067459 Validation Acurracy: 0.7785997986793518\n",
      "Epoch 35, CIFAR-10 Batch 3:  Loss: 0.21586328744888306 Validation Acurracy: 0.7801998853683472\n",
      "Epoch 35, CIFAR-10 Batch 4:  Loss: 0.19259481132030487 Validation Acurracy: 0.7899998426437378\n",
      "Epoch 35, CIFAR-10 Batch 5:  Loss: 0.21815156936645508 Validation Acurracy: 0.7905998229980469\n"
     ]
    }
   ],
   "source": [
    "\"\"\"\n",
    "DON'T MODIFY ANYTHING IN THIS CELL\n",
    "\"\"\"\n",
    "save_model_path = './image_classification'\n",
    "\n",
    "print('Training...')\n",
    "with tf.Session() as sess:\n",
    "    # Initializing the variables\n",
    "    sess.run(tf.global_variables_initializer())\n",
    "    \n",
    "    # Training cycle\n",
    "    for epoch in range(epochs):\n",
    "        # Loop over all batches\n",
    "        n_batches = 5\n",
    "        for batch_i in range(1, n_batches + 1):\n",
    "            for batch_features, batch_labels in helper.load_preprocess_training_batch(batch_i, batch_size):\n",
    "                train_neural_network(sess, optimizer, keep_probability, batch_features, batch_labels)\n",
    "            print('Epoch {:>2}, CIFAR-10 Batch {}:  '.format(epoch + 1, batch_i), end='')\n",
    "            print_stats(sess, batch_features, batch_labels, cost, accuracy)\n",
    "            \n",
    "    # Save Model\n",
    "    saver = tf.train.Saver()\n",
    "    save_path = saver.save(sess, save_model_path)"
   ]
  },
  {
   "cell_type": "markdown",
   "metadata": {
    "deletable": true,
    "editable": true
   },
   "source": [
    "# Checkpoint\n",
    "The model has been saved to disk.\n",
    "## Test Model\n",
    "Test your model against the test dataset.  This will be your final accuracy. You should have an accuracy greater than 50%. If you don't, keep tweaking the model architecture and parameters."
   ]
  },
  {
   "cell_type": "code",
   "execution_count": 48,
   "metadata": {
    "collapsed": false,
    "deletable": true,
    "editable": true
   },
   "outputs": [
    {
     "name": "stdout",
     "output_type": "stream",
     "text": [
      "Testing Accuracy: 0.7768987341772152\n",
      "\n"
     ]
    },
    {
     "data": {
      "image/png": "[encoded data removed]",
      "text/plain": [
       "<matplotlib.figure.Figure at 0x7f4f305edda0>"
      ]
     },
     "metadata": {
      "image/png": {
       "height": 319,
       "width": 355
      }
     },
     "output_type": "display_data"
    }
   ],
   "source": [
    "\"\"\"\n",
    "DON'T MODIFY ANYTHING IN THIS CELL\n",
    "\"\"\"\n",
    "%matplotlib inline\n",
    "%config InlineBackend.figure_format = 'retina'\n",
    "\n",
    "import tensorflow as tf\n",
    "import pickle\n",
    "import helper\n",
    "import random\n",
    "\n",
    "# Set batch size if not already set\n",
    "try:\n",
    "    if batch_size:\n",
    "        pass\n",
    "except NameError:\n",
    "    batch_size = 64\n",
    "\n",
    "save_model_path = './image_classification'\n",
    "n_samples = 4\n",
    "top_n_predictions = 3\n",
    "\n",
    "def test_model():\n",
    "    \"\"\"\n",
    "    Test the saved model against the test dataset\n",
    "    \"\"\"\n",
    "\n",
    "    test_features, test_labels = pickle.load(open('preprocess_test.p', mode='rb'))\n",
    "    loaded_graph = tf.Graph()\n",
    "\n",
    "    with tf.Session(graph=loaded_graph) as sess:\n",
    "        # Load model\n",
    "        loader = tf.train.import_meta_graph(save_model_path + '.meta')\n",
    "        loader.restore(sess, save_model_path)\n",
    "\n",
    "        # Get Tensors from loaded model\n",
    "        loaded_x = loaded_graph.get_tensor_by_name('x:0')\n",
    "        loaded_y = loaded_graph.get_tensor_by_name('y:0')\n",
    "        loaded_keep_prob = loaded_graph.get_tensor_by_name('keep_prob:0')\n",
    "        loaded_logits = loaded_graph.get_tensor_by_name('logits:0')\n",
    "        loaded_acc = loaded_graph.get_tensor_by_name('accuracy:0')\n",
    "        \n",
    "        # Get accuracy in batches for memory limitations\n",
    "        test_batch_acc_total = 0\n",
    "        test_batch_count = 0\n",
    "        \n",
    "        for test_feature_batch, test_label_batch in helper.batch_features_labels(test_features, test_labels, batch_size):\n",
    "            test_batch_acc_total += sess.run(\n",
    "                loaded_acc,\n",
    "                feed_dict={loaded_x: test_feature_batch, loaded_y: test_label_batch, loaded_keep_prob: 1.0})\n",
    "            test_batch_count += 1\n",
    "\n",
    "        print('Testing Accuracy: {}\\n'.format(test_batch_acc_total/test_batch_count))\n",
    "\n",
    "        # Print Random Samples\n",
    "        random_test_features, random_test_labels = tuple(zip(*random.sample(list(zip(test_features, test_labels)), n_samples)))\n",
    "        random_test_predictions = sess.run(\n",
    "            tf.nn.top_k(tf.nn.softmax(loaded_logits), top_n_predictions),\n",
    "            feed_dict={loaded_x: random_test_features, loaded_y: random_test_labels, loaded_keep_prob: 1.0})\n",
    "        helper.display_image_predictions(random_test_features, random_test_labels, random_test_predictions)\n",
    "\n",
    "\n",
    "test_model()"
   ]
  },
  {
   "cell_type": "markdown",
   "metadata": {
    "deletable": true,
    "editable": true
   },
   "source": [
    "## Why 50-80% Accuracy?\n",
    "You might be wondering why you can't get an accuracy any higher. First things first, 50% isn't bad for a simple CNN.  Pure guessing would get you 10% accuracy. However, you might notice people are getting scores [well above 80%](http://rodrigob.github.io/are_we_there_yet/build/classification_datasets_results.html#43494641522d3130).  That's because we haven't taught you all there is to know about neural networks. We still need to cover a few more techniques.\n",
    "## Submitting This Project\n",
    "When submitting this project, make sure to run all the cells before saving the notebook.  Save the notebook file as \"dlnd_image_classification.ipynb\" and save it as a HTML file under \"File\" -> \"Download as\".  Include the \"helper.py\" and \"problem_unittests.py\" files in your submission."
   ]
  }
 ],
 "metadata": {
  "kernelspec": {
   "display_name": "Python 3",
   "language": "python",
   "name": "python3"
  },
  "language_info": {
   "codemirror_mode": {
    "name": "ipython",
    "version": 3
   },
   "file_extension": ".py",
   "mimetype": "text/x-python",
   "name": "python",
   "nbconvert_exporter": "python",
   "pygments_lexer": "ipython3",
   "version": "3.5.1"
  }
 },
 "nbformat": 4,
 "nbformat_minor": 0
}
